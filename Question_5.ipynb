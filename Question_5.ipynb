{
  "nbformat": 4,
  "nbformat_minor": 0,
  "metadata": {
    "colab": {
      "provenance": [],
      "authorship_tag": "ABX9TyPea9g7v/mhxv0yqlb7BRX7",
      "include_colab_link": true
    },
    "kernelspec": {
      "name": "python3",
      "display_name": "Python 3"
    },
    "language_info": {
      "name": "python"
    }
  },
  "cells": [
    {
      "cell_type": "markdown",
      "metadata": {
        "id": "view-in-github",
        "colab_type": "text"
      },
      "source": [
        "<a href=\"https://colab.research.google.com/github/Mohor35/Daily_programming_challenge_2024/blob/main/Question_5.ipynb\" target=\"_parent\"><img src=\"https://colab.research.google.com/assets/colab-badge.svg\" alt=\"Open In Colab\"/></a>"
      ]
    },
    {
      "cell_type": "code",
      "execution_count": 8,
      "metadata": {
        "colab": {
          "base_uri": "https://localhost:8080/"
        },
        "id": "SulCo3AphOBv",
        "outputId": "89031a75-9c99-48d1-a374-0eb5e56effd0"
      },
      "outputs": [
        {
          "output_type": "stream",
          "name": "stdout",
          "text": [
            "[17, 5, 2]\n",
            "[4, 0]\n",
            "[10, 6, 5, 2]\n",
            "[5]\n",
            "[100, 50, 20, 10]\n"
          ]
        }
      ],
      "source": [
        "def get_leader(arr):\n",
        "  arr_len = len(arr)\n",
        "  leader_elements = []\n",
        "  curr_max = float('-inf')   #initializing to the smallest possible value\n",
        "\n",
        "  for index in range(arr_len - 1, -1, -1):\n",
        "      if arr[index] > curr_max:\n",
        "         leader_elements.append(arr[index])\n",
        "         curr_max = arr[index]\n",
        "\n",
        "  leader_elements.reverse()\n",
        "  return leader_elements\n",
        "\n",
        "# Test Cases\n",
        "print(get_leader([16, 17, 4, 3, 5, 2]))\n",
        "print(get_leader([1, 2, 3, 4, 0]))\n",
        "print(get_leader([7, 10, 4, 10, 6, 5, 2]))\n",
        "print(get_leader([5]))\n",
        "print(get_leader([100,50,20,10]))"
      ]
    }
  ]
}
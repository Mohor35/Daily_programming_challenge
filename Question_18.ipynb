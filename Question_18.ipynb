{
  "nbformat": 4,
  "nbformat_minor": 0,
  "metadata": {
    "colab": {
      "provenance": [],
      "authorship_tag": "ABX9TyNDllKAJWDRFbFY2msrJORi",
      "include_colab_link": true
    },
    "kernelspec": {
      "name": "python3",
      "display_name": "Python 3"
    },
    "language_info": {
      "name": "python"
    }
  },
  "cells": [
    {
      "cell_type": "markdown",
      "metadata": {
        "id": "view-in-github",
        "colab_type": "text"
      },
      "source": [
        "<a href=\"https://colab.research.google.com/github/Mohor35/Daily_programming_challenge_2024/blob/main/Question_18.ipynb\" target=\"_parent\"><img src=\"https://colab.research.google.com/assets/colab-badge.svg\" alt=\"Open In Colab\"/></a>"
      ]
    },
    {
      "cell_type": "code",
      "execution_count": 1,
      "metadata": {
        "colab": {
          "base_uri": "https://localhost:8080/"
        },
        "id": "dUiRdZF6dqcw",
        "outputId": "2f200292-2de6-443b-d1c6-59f4d0651694"
      },
      "outputs": [
        {
          "output_type": "stream",
          "name": "stdout",
          "text": [
            "6\n",
            "6\n",
            "2\n",
            "9\n",
            "1\n",
            "2\n"
          ]
        }
      ],
      "source": [
        "def count_divisors(N):\n",
        "  count = 0\n",
        "  i = 1\n",
        "  while i * i <= N:\n",
        "    if N % i == 0:\n",
        "      if N // i == i:\n",
        "        count += 1\n",
        "      else:\n",
        "        count += 2\n",
        "    i += 1\n",
        "  return count\n",
        "\n",
        "print(count_divisors(12))\n",
        "print(count_divisors(18))\n",
        "print(count_divisors(29))\n",
        "print(count_divisors(100))\n",
        "print(count_divisors(1))\n",
        "print(count_divisors(997))\n"
      ]
    }
  ]
}
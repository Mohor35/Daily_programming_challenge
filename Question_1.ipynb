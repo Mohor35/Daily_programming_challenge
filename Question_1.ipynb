{
  "nbformat": 4,
  "nbformat_minor": 0,
  "metadata": {
    "colab": {
      "provenance": [],
      "authorship_tag": "ABX9TyNate92Zr9gQOdZLLMkxEC/",
      "include_colab_link": true
    },
    "kernelspec": {
      "name": "python3",
      "display_name": "Python 3"
    },
    "language_info": {
      "name": "python"
    }
  },
  "cells": [
    {
      "cell_type": "markdown",
      "metadata": {
        "id": "view-in-github",
        "colab_type": "text"
      },
      "source": [
        "<a href=\"https://colab.research.google.com/github/Mohor35/Daily_programming_challenge_2024/blob/main/Question_1.ipynb\" target=\"_parent\"><img src=\"https://colab.research.google.com/assets/colab-badge.svg\" alt=\"Open In Colab\"/></a>"
      ]
    },
    {
      "cell_type": "code",
      "source": [
        "def sort_array(arr):\n",
        "  low, middle, high = 0,0,len(arr)-1\n",
        "\n",
        "  while middle <= high:\n",
        "    if arr[middle] == 0:\n",
        "      arr[low], arr[middle] = arr[middle], arr[low]\n",
        "      low = low + 1\n",
        "      middle = middle + 1\n",
        "    elif arr[middle] == 1:\n",
        "      middle = middle + 1\n",
        "    else:\n",
        "      arr[middle], arr[high] = arr[high], arr[middle]\n",
        "      high = high - 1\n",
        "\n",
        "\n",
        "arr = [0, 1, 2, 1, 0, 2, 1, 0]\n",
        "sort_array(arr)\n",
        "print(arr)"
      ],
      "metadata": {
        "colab": {
          "base_uri": "https://localhost:8080/"
        },
        "id": "JDCI-1h5iMFA",
        "outputId": "094c36bf-8c02-4488-c066-fe050cbfa3c5"
      },
      "execution_count": 8,
      "outputs": [
        {
          "output_type": "stream",
          "name": "stdout",
          "text": [
            "[0, 0, 0, 1, 1, 1, 2, 2]\n"
          ]
        }
      ]
    }
  ]
}
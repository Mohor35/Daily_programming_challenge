{
  "nbformat": 4,
  "nbformat_minor": 0,
  "metadata": {
    "colab": {
      "provenance": [],
      "authorship_tag": "ABX9TyNKFd/YUCjoRyfexmYTM9N/",
      "include_colab_link": true
    },
    "kernelspec": {
      "name": "python3",
      "display_name": "Python 3"
    },
    "language_info": {
      "name": "python"
    }
  },
  "cells": [
    {
      "cell_type": "markdown",
      "metadata": {
        "id": "view-in-github",
        "colab_type": "text"
      },
      "source": [
        "<a href=\"https://colab.research.google.com/github/Mohor35/Daily_programming_challenge_2024/blob/main/Question_21.ipynb\" target=\"_parent\"><img src=\"https://colab.research.google.com/assets/colab-badge.svg\" alt=\"Open In Colab\"/></a>"
      ]
    },
    {
      "cell_type": "code",
      "execution_count": 4,
      "metadata": {
        "colab": {
          "base_uri": "https://localhost:8080/"
        },
        "id": "wC9S4Wo3pU_h",
        "outputId": "e7f2fcf3-b3fa-4154-b522-000b293cfa95"
      },
      "outputs": [
        {
          "output_type": "stream",
          "name": "stdout",
          "text": [
            "[4, 3, 2, 1]\n",
            "[-15, -10, -5]\n",
            "[1, 2, 3]\n",
            "[5]\n",
            "[]\n"
          ]
        }
      ],
      "source": [
        "def insert_at_bottom(stack, item):\n",
        "    if not stack:\n",
        "        stack.append(item)\n",
        "    else:\n",
        "        temp = stack.pop()\n",
        "        insert_at_bottom(stack, item)\n",
        "        stack.append(temp)\n",
        "\n",
        "def reverse_stack(stack):\n",
        "  if not stack:\n",
        "    return\n",
        "\n",
        "  temp = stack.pop()\n",
        "  reverse_stack(stack)\n",
        "  insert_at_bottom(stack, temp)\n",
        "\n",
        "stack1 = [1, 2, 3, 4]\n",
        "reverse_stack(stack1)\n",
        "print(stack1)\n",
        "\n",
        "stack2 = [-5, -10, -15]\n",
        "reverse_stack(stack2)\n",
        "print(stack2)\n",
        "\n",
        "stack3 = [3, 2, 1]\n",
        "reverse_stack(stack3)\n",
        "print(stack3)\n",
        "\n",
        "stack4 = [5]\n",
        "reverse_stack(stack4)\n",
        "print(stack4)\n",
        "\n",
        "stack5 = []\n",
        "reverse_stack(stack5)\n",
        "print(stack5)"
      ]
    }
  ]
}
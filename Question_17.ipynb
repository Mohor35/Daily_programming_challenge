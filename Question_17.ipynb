{
  "nbformat": 4,
  "nbformat_minor": 0,
  "metadata": {
    "colab": {
      "provenance": [],
      "authorship_tag": "ABX9TyPbT39CcGpkD6EL4lOvXtzG",
      "include_colab_link": true
    },
    "kernelspec": {
      "name": "python3",
      "display_name": "Python 3"
    },
    "language_info": {
      "name": "python"
    }
  },
  "cells": [
    {
      "cell_type": "markdown",
      "metadata": {
        "id": "view-in-github",
        "colab_type": "text"
      },
      "source": [
        "<a href=\"https://colab.research.google.com/github/Mohor35/Daily_programming_challenge_2024/blob/main/Question_17.ipynb\" target=\"_parent\"><img src=\"https://colab.research.google.com/assets/colab-badge.svg\" alt=\"Open In Colab\"/></a>"
      ]
    },
    {
      "cell_type": "code",
      "execution_count": 10,
      "metadata": {
        "colab": {
          "base_uri": "https://localhost:8080/"
        },
        "id": "CjLk2onIvKbL",
        "outputId": "b905bf0f-b42a-4e57-dd09-371ab85db336"
      },
      "outputs": [
        {
          "output_type": "stream",
          "name": "stdout",
          "text": [
            "[2, 3, 3]\n",
            "[2, 3, 5]\n",
            "[7, 7]\n",
            "[19]\n",
            "[2, 2, 2, 2, 2, 2]\n",
            "[2, 2, 2, 2, 2, 2, 3, 643]\n"
          ]
        }
      ],
      "source": [
        "def prime_factors(N):\n",
        "  factors = []\n",
        "\n",
        "  while N % 2 == 0:\n",
        "    factors.append(2)\n",
        "    N//=2\n",
        "\n",
        "  divisor = 3\n",
        "  while divisor * divisor <= N:\n",
        "    while N % divisor == 0:\n",
        "      factors.append(divisor)\n",
        "      N//=divisor\n",
        "    divisor+=2\n",
        "\n",
        "\n",
        "  if N > 1:\n",
        "    factors.append(N)\n",
        "\n",
        "  return factors\n",
        "\n",
        "print(prime_factors(18))\n",
        "print(prime_factors(30))\n",
        "print(prime_factors(49))\n",
        "print(prime_factors(19))\n",
        "print(prime_factors(64))\n",
        "print(prime_factors(123456))"
      ]
    }
  ]
}
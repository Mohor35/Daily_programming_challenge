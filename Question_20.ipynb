{
  "nbformat": 4,
  "nbformat_minor": 0,
  "metadata": {
    "colab": {
      "provenance": [],
      "authorship_tag": "ABX9TyNENpKF/XySThYgklwcOFUz",
      "include_colab_link": true
    },
    "kernelspec": {
      "name": "python3",
      "display_name": "Python 3"
    },
    "language_info": {
      "name": "python"
    }
  },
  "cells": [
    {
      "cell_type": "markdown",
      "metadata": {
        "id": "view-in-github",
        "colab_type": "text"
      },
      "source": [
        "<a href=\"https://colab.research.google.com/github/Mohor35/Daily_programming_challenge_2024/blob/main/Question_20.ipynb\" target=\"_parent\"><img src=\"https://colab.research.google.com/assets/colab-badge.svg\" alt=\"Open In Colab\"/></a>"
      ]
    },
    {
      "cell_type": "code",
      "execution_count": 1,
      "metadata": {
        "colab": {
          "base_uri": "https://localhost:8080/"
        },
        "id": "s_annHvhP759",
        "outputId": "b686dfcf-9a4a-47c2-8b72-574a5aa10194"
      },
      "outputs": [
        {
          "output_type": "stream",
          "name": "stdout",
          "text": [
            "[1, 2, 3, 4]\n"
          ]
        }
      ],
      "source": [
        "def sort_stack(stack):\n",
        "  if len(stack) == 0:\n",
        "    return\n",
        "  top = stack.pop()\n",
        "  sort_stack(stack)\n",
        "  insert_in_sorted_order(stack, top)\n",
        "\n",
        "\n",
        "def insert_in_sorted_order(stack, element):\n",
        "  if len(stack) == 0 or stack[-1] <= element:\n",
        "    stack.append(element)\n",
        "    return\n",
        "  top = stack.pop()\n",
        "  insert_in_sorted_order(stack, element)\n",
        "  stack.append(top)\n",
        "\n",
        "stack = [3,1,4,2]\n",
        "sort_stack(stack)\n",
        "print(stack)"
      ]
    }
  ]
}
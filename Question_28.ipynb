{
  "nbformat": 4,
  "nbformat_minor": 0,
  "metadata": {
    "colab": {
      "provenance": [],
      "authorship_tag": "ABX9TyO86vlwdk0hyiHu1tXEXPlw",
      "include_colab_link": true
    },
    "kernelspec": {
      "name": "python3",
      "display_name": "Python 3"
    },
    "language_info": {
      "name": "python"
    }
  },
  "cells": [
    {
      "cell_type": "markdown",
      "metadata": {
        "id": "view-in-github",
        "colab_type": "text"
      },
      "source": [
        "<a href=\"https://colab.research.google.com/github/Mohor35/Daily_programming_challenge_2024/blob/main/Question_28.ipynb\" target=\"_parent\"><img src=\"https://colab.research.google.com/assets/colab-badge.svg\" alt=\"Open In Colab\"/></a>"
      ]
    },
    {
      "cell_type": "code",
      "execution_count": 1,
      "metadata": {
        "colab": {
          "base_uri": "https://localhost:8080/"
        },
        "id": "r3G6tmHJpTqU",
        "outputId": "a6f3e5d5-ea62-4883-85a9-75448fbc66aa"
      },
      "outputs": [
        {
          "output_type": "stream",
          "name": "stdout",
          "text": [
            "True\n",
            "False\n",
            "True\n",
            "True\n",
            "True\n"
          ]
        }
      ],
      "source": [
        "class TreeNode:\n",
        "    def __init__(self, val=0, left=None, right=None):\n",
        "        self.val = val\n",
        "        self.left = left\n",
        "        self.right = right\n",
        "\n",
        "class Solution:\n",
        "    def isSymmetric(self, root: TreeNode) -> bool:\n",
        "        def is_mirror(left: TreeNode, right: TreeNode) -> bool:\n",
        "            if left is None and right is None:\n",
        "                return True\n",
        "            if left is None or right is None or left.val != right.val:\n",
        "                return False\n",
        "            return is_mirror(left.left, right.right) and is_mirror(left.right, right.left)\n",
        "\n",
        "        if root is None:\n",
        "            return True\n",
        "        return is_mirror(root.left, root.right)\n",
        "\n",
        "def build_tree_from_list(lst):\n",
        "    if not lst:\n",
        "        return None\n",
        "    nodes = [None if val is None else TreeNode(val) for val in lst]\n",
        "    for i in range(1, len(nodes)):\n",
        "        if nodes[i] is not None:\n",
        "            parent = nodes[(i - 1) // 2]\n",
        "            if i % 2 == 1:\n",
        "                parent.left = nodes[i]\n",
        "            else:\n",
        "                parent.right = nodes[i]\n",
        "    return nodes[0]\n",
        "\n",
        "tree1 = build_tree_from_list([1, 2, 2, 3, 4, 4, 3])\n",
        "sol = Solution()\n",
        "print(sol.isSymmetric(tree1))\n",
        "\n",
        "tree2 = build_tree_from_list([1, 2, 2, None, 3, None, 3])\n",
        "print(sol.isSymmetric(tree2))\n",
        "\n",
        "tree3 = build_tree_from_list([1])\n",
        "print(sol.isSymmetric(tree3))\n",
        "\n",
        "tree4 = build_tree_from_list([])\n",
        "print(sol.isSymmetric(tree4))\n",
        "\n",
        "tree5 = build_tree_from_list([1, 2, 2, 3, None, None, 3])\n",
        "print(sol.isSymmetric(tree5))\n"
      ]
    }
  ]
}
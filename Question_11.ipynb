{
  "nbformat": 4,
  "nbformat_minor": 0,
  "metadata": {
    "colab": {
      "provenance": [],
      "authorship_tag": "ABX9TyNU5pEkZQJ5jmuyVVFhW/bt",
      "include_colab_link": true
    },
    "kernelspec": {
      "name": "python3",
      "display_name": "Python 3"
    },
    "language_info": {
      "name": "python"
    }
  },
  "cells": [
    {
      "cell_type": "markdown",
      "metadata": {
        "id": "view-in-github",
        "colab_type": "text"
      },
      "source": [
        "<a href=\"https://colab.research.google.com/github/Mohor35/Daily_programming_challenge_2024/blob/main/Question_11.ipynb\" target=\"_parent\"><img src=\"https://colab.research.google.com/assets/colab-badge.svg\" alt=\"Open In Colab\"/></a>"
      ]
    },
    {
      "cell_type": "code",
      "execution_count": 3,
      "metadata": {
        "colab": {
          "base_uri": "https://localhost:8080/"
        },
        "id": "Iz8tR85aP3I0",
        "outputId": "67271480-7cfb-4afd-830f-42d65f96a1c6"
      },
      "outputs": [
        {
          "output_type": "stream",
          "name": "stdout",
          "text": [
            "['cab', 'abc', 'cba', 'bca', 'bac', 'acb']\n",
            "['aba', 'baa', 'aab']\n",
            "['aaa']\n",
            "['a']\n",
            "['bacd', 'dcba', 'dbac', 'cbda', 'dbca', 'cabd', 'bcda', 'dcab', 'cdab', 'bdac', 'abdc', 'abcd', 'adcb', 'acdb', 'badc', 'bdca', 'cdba', 'adbc', 'dacb', 'dabc', 'cadb', 'acbd', 'cbad', 'bcad']\n"
          ]
        }
      ],
      "source": [
        "def unique_helper(s,start,result_set):\n",
        "    if start == len(s):\n",
        "        result_set.add(''.join(s))\n",
        "        return\n",
        "    for i in range(start,len(s)):\n",
        "        s[start],s[i] = s[i],s[start]\n",
        "\n",
        "        unique_helper(s,start+1,result_set)\n",
        "        s[start],s[i] = s[i],s[start]\n",
        "\n",
        "def unique(s):\n",
        "    result_set = set()\n",
        "    s_list = list(s)\n",
        "    unique_helper(s_list,0,result_set)\n",
        "    return list(result_set)\n",
        "\n",
        "\n",
        "print(unique(\"abc\"))\n",
        "print(unique(\"aab\"))\n",
        "print(unique(\"aaa\"))\n",
        "print(unique(\"a\"))\n",
        "print(unique(\"abcd\"))\n",
        "\n",
        ""
      ]
    }
  ]
}
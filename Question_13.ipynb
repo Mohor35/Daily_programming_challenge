{
  "nbformat": 4,
  "nbformat_minor": 0,
  "metadata": {
    "colab": {
      "provenance": [],
      "authorship_tag": "ABX9TyMF5KZvgZ32yvdzpHIsY/l3",
      "include_colab_link": true
    },
    "kernelspec": {
      "name": "python3",
      "display_name": "Python 3"
    },
    "language_info": {
      "name": "python"
    }
  },
  "cells": [
    {
      "cell_type": "markdown",
      "metadata": {
        "id": "view-in-github",
        "colab_type": "text"
      },
      "source": [
        "<a href=\"https://colab.research.google.com/github/Mohor35/Daily_programming_challenge_2024/blob/main/Question_13.ipynb\" target=\"_parent\"><img src=\"https://colab.research.google.com/assets/colab-badge.svg\" alt=\"Open In Colab\"/></a>"
      ]
    },
    {
      "cell_type": "code",
      "execution_count": 11,
      "metadata": {
        "colab": {
          "base_uri": "https://localhost:8080/"
        },
        "id": "BxhcyPQAlaLy",
        "outputId": "5641fa8b-03f6-4923-b82e-b290f6683041"
      },
      "outputs": [
        {
          "output_type": "stream",
          "name": "stdout",
          "text": [
            "bab\n",
            "bb\n",
            "a\n",
            "aaaa\n",
            "a\n"
          ]
        }
      ],
      "source": [
        "def longest_palindrome(s: str) -> str:\n",
        "  def expand(left: int, right: int) -> str:\n",
        "    while left >= 0 and right < len(s) and s[left] == s[right]:\n",
        "      left -= 1\n",
        "      right += 1\n",
        "\n",
        "    return s[left + 1:right]\n",
        "\n",
        "  if len(s) <= 1:\n",
        "    return s\n",
        "\n",
        "  longest = \"\"\n",
        "\n",
        "  for i in range(len(s)):\n",
        "      palindrome_odd = expand(i, i)\n",
        "      palindrome_even = expand(i, i+1)\n",
        "\n",
        "      if(len(palindrome_odd)) > len(longest):\n",
        "        longest = palindrome_odd\n",
        "      if len(palindrome_even) > len(longest):\n",
        "        longest = palindrome_even\n",
        "\n",
        "  return longest\n",
        "\n",
        "print(longest_palindrome(\"babad\"))\n",
        "print(longest_palindrome(\"cbbd\"))\n",
        "print(longest_palindrome(\"a\"))\n",
        "print(longest_palindrome(\"aaaa\"))\n",
        "print(longest_palindrome(\"abc\"))"
      ]
    }
  ]
}
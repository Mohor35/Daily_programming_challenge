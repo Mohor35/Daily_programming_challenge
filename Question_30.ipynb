{
  "nbformat": 4,
  "nbformat_minor": 0,
  "metadata": {
    "colab": {
      "provenance": [],
      "authorship_tag": "ABX9TyOBq0Nfqij0kOwrrHpThHRu",
      "include_colab_link": true
    },
    "kernelspec": {
      "name": "python3",
      "display_name": "Python 3"
    },
    "language_info": {
      "name": "python"
    }
  },
  "cells": [
    {
      "cell_type": "markdown",
      "metadata": {
        "id": "view-in-github",
        "colab_type": "text"
      },
      "source": [
        "<a href=\"https://colab.research.google.com/github/Mohor35/Daily_programming_challenge_2024/blob/main/Question_30.ipynb\" target=\"_parent\"><img src=\"https://colab.research.google.com/assets/colab-badge.svg\" alt=\"Open In Colab\"/></a>"
      ]
    },
    {
      "cell_type": "code",
      "execution_count": 2,
      "metadata": {
        "colab": {
          "base_uri": "https://localhost:8080/"
        },
        "id": "tX4tDLWxXbNN",
        "outputId": "b5039247-25d2-4244-a3a7-7b1377ea0176"
      },
      "outputs": [
        {
          "output_type": "stream",
          "name": "stdout",
          "text": [
            "3\n",
            "-1\n",
            "0\n"
          ]
        }
      ],
      "source": [
        "def coinchange(coins, amount):\n",
        "  dp = [float('inf')] * (amount + 1)\n",
        "  dp[0] = 0\n",
        "\n",
        "  for coin in coins:\n",
        "    for i in range(coin, amount + 1):\n",
        "      dp[i] = min(dp[i], dp[i - coin] + 1)\n",
        "\n",
        "  return dp[amount] if dp[amount] != float('inf') else -1\n",
        "\n",
        "print(coinchange([1,2,5], 11))\n",
        "print(coinchange([2], 3))\n",
        "print(coinchange([1], 0))\n"
      ]
    }
  ]
}
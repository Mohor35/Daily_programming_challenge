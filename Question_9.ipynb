{
  "nbformat": 4,
  "nbformat_minor": 0,
  "metadata": {
    "colab": {
      "provenance": [],
      "authorship_tag": "ABX9TyMUqTBAJ+Q9LxNMDW/GlWsc",
      "include_colab_link": true
    },
    "kernelspec": {
      "name": "python3",
      "display_name": "Python 3"
    },
    "language_info": {
      "name": "python"
    }
  },
  "cells": [
    {
      "cell_type": "markdown",
      "metadata": {
        "id": "view-in-github",
        "colab_type": "text"
      },
      "source": [
        "<a href=\"https://colab.research.google.com/github/Mohor35/Daily_programming_challenge_2024/blob/main/Question_9.ipynb\" target=\"_parent\"><img src=\"https://colab.research.google.com/assets/colab-badge.svg\" alt=\"Open In Colab\"/></a>"
      ]
    },
    {
      "cell_type": "code",
      "execution_count": 3,
      "metadata": {
        "colab": {
          "base_uri": "https://localhost:8080/"
        },
        "id": "HIoUEsqYsUU6",
        "outputId": "1183c923-d2c5-424d-e84a-e6e943ba5966"
      },
      "outputs": [
        {
          "output_type": "stream",
          "name": "stdout",
          "text": [
            "fl\n",
            "\n",
            "ap\n",
            "\n",
            "alone\n"
          ]
        }
      ],
      "source": [
        "def long_common_prefix(strs):\n",
        "    if not strs:\n",
        "        return \"\"\n",
        "\n",
        "    prefix = strs[0]\n",
        "\n",
        "    for s in strs[1:]:\n",
        "      while not s.startswith(prefix):\n",
        "        prefix = prefix[:-1]\n",
        "        if not prefix:\n",
        "          return \"\"\n",
        "\n",
        "    return prefix\n",
        "\n",
        "print(long_common_prefix([\"flower\", \"flow\", \"flight\"]))\n",
        "print(long_common_prefix([\"dog\", \"racecar\", \"car\"]))\n",
        "print(long_common_prefix([\"apple\", \"ape\", \"april\"]))\n",
        "print(long_common_prefix([\"\"]))\n",
        "print(long_common_prefix([\"alone\"]))\n",
        ""
      ]
    }
  ]
}
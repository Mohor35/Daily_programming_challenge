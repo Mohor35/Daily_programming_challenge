{
  "nbformat": 4,
  "nbformat_minor": 0,
  "metadata": {
    "colab": {
      "provenance": [],
      "authorship_tag": "ABX9TyMKztMas3i+3tYA+FA4F02n",
      "include_colab_link": true
    },
    "kernelspec": {
      "name": "python3",
      "display_name": "Python 3"
    },
    "language_info": {
      "name": "python"
    }
  },
  "cells": [
    {
      "cell_type": "markdown",
      "metadata": {
        "id": "view-in-github",
        "colab_type": "text"
      },
      "source": [
        "<a href=\"https://colab.research.google.com/github/Mohor35/Daily_programming_challenge_2024/blob/main/Question_14.ipynb\" target=\"_parent\"><img src=\"https://colab.research.google.com/assets/colab-badge.svg\" alt=\"Open In Colab\"/></a>"
      ]
    },
    {
      "cell_type": "code",
      "execution_count": 7,
      "metadata": {
        "colab": {
          "base_uri": "https://localhost:8080/"
        },
        "id": "tpr5tAilBWcz",
        "outputId": "57260d90-d0d4-46d9-a1fe-8285642f1cb8"
      },
      "outputs": [
        {
          "output_type": "stream",
          "name": "stdout",
          "text": [
            "7\n",
            "1\n",
            "1\n",
            "2\n"
          ]
        }
      ],
      "source": [
        "def countSubstring(s, k):\n",
        "  def countAtMostDistinct(s, k):\n",
        "    count = 0\n",
        "    left = 0\n",
        "    freq = {}\n",
        "\n",
        "    for right in range(len(s)):\n",
        "      freq[s[right]] = freq.get(s[right], 0) + 1\n",
        "      while len(freq) > k:\n",
        "        freq[s[left]] -= 1\n",
        "        if freq[s[left]] == 0:\n",
        "          del freq[s[left]]\n",
        "        left += 1\n",
        "\n",
        "      count += right - left + 1\n",
        "\n",
        "    return count\n",
        "\n",
        "  return countAtMostDistinct(s, k) - countAtMostDistinct(s, k-1)\n",
        "\n",
        "print(countSubstring(\"pqpqs\", 2))\n",
        "print(countSubstring(\"a\", 1))\n",
        "print(countSubstring(\"abc\", 3))\n",
        "print(countSubstring( \"abc\", 2))"
      ]
    }
  ]
}
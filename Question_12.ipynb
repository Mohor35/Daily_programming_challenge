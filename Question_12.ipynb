{
  "nbformat": 4,
  "nbformat_minor": 0,
  "metadata": {
    "colab": {
      "provenance": [],
      "authorship_tag": "ABX9TyNfcg1RlQaRPtQkLl38juNj",
      "include_colab_link": true
    },
    "kernelspec": {
      "name": "python3",
      "display_name": "Python 3"
    },
    "language_info": {
      "name": "python"
    }
  },
  "cells": [
    {
      "cell_type": "markdown",
      "metadata": {
        "id": "view-in-github",
        "colab_type": "text"
      },
      "source": [
        "<a href=\"https://colab.research.google.com/github/Mohor35/Daily_programming_challenge_2024/blob/main/Question_12.ipynb\" target=\"_parent\"><img src=\"https://colab.research.google.com/assets/colab-badge.svg\" alt=\"Open In Colab\"/></a>"
      ]
    },
    {
      "cell_type": "code",
      "execution_count": 2,
      "metadata": {
        "colab": {
          "base_uri": "https://localhost:8080/"
        },
        "id": "OZ9mmUkOHQs_",
        "outputId": "17c2fa77-7241-4db7-d38e-286728a202e1"
      },
      "outputs": [
        {
          "output_type": "stream",
          "name": "stdout",
          "text": [
            "True\n",
            "True\n",
            "False\n"
          ]
        }
      ],
      "source": [
        "def isvalid(s: str) -> bool:\n",
        "  bracket_mapping = {')': '(', '}': '{', ']': '['}\n",
        "  stack = []\n",
        "  for char in s:\n",
        "    if char in bracket_mapping:\n",
        "      top_element = stack.pop() if stack else '#'\n",
        "      if bracket_mapping[char] != top_element:\n",
        "        return False\n",
        "    else:\n",
        "      stack.append(char)\n",
        "  return not stack\n",
        "\n",
        "\n",
        "print(isvalid(\"()\"))\n",
        "print(isvalid(\"()[]{}\"))\n",
        "print(isvalid(\"(]\"))"
      ]
    }
  ]
}
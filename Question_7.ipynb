{
  "nbformat": 4,
  "nbformat_minor": 0,
  "metadata": {
    "colab": {
      "provenance": [],
      "authorship_tag": "ABX9TyOCZvCiGnAc9SEMw99KcjIm",
      "include_colab_link": true
    },
    "kernelspec": {
      "name": "python3",
      "display_name": "Python 3"
    },
    "language_info": {
      "name": "python"
    }
  },
  "cells": [
    {
      "cell_type": "markdown",
      "metadata": {
        "id": "view-in-github",
        "colab_type": "text"
      },
      "source": [
        "<a href=\"https://colab.research.google.com/github/Mohor35/Daily_programming_challenge_2024/blob/main/Question_7.ipynb\" target=\"_parent\"><img src=\"https://colab.research.google.com/assets/colab-badge.svg\" alt=\"Open In Colab\"/></a>"
      ]
    },
    {
      "cell_type": "code",
      "execution_count": 2,
      "metadata": {
        "colab": {
          "base_uri": "https://localhost:8080/"
        },
        "id": "OrSqieXrYrNV",
        "outputId": "7aa11ac6-e30e-4a03-cd93-2cbe5a853465"
      },
      "outputs": [
        {
          "output_type": "stream",
          "name": "stdout",
          "text": [
            "6\n",
            "9\n",
            "0\n",
            "0\n",
            "2\n"
          ]
        }
      ],
      "source": [
        "def trap(h):\n",
        "  if not h or len(h) < 3:\n",
        "    return 0\n",
        "\n",
        "  left, right = 0, len(h) - 1\n",
        "  l_max, r_max = h[left], h[right]\n",
        "  water_trap = 0\n",
        "\n",
        "\n",
        "  while left < right:\n",
        "    if h[left] < h[right]:\n",
        "      if h[left] >= l_max:\n",
        "        l_max = h[left]\n",
        "      else:\n",
        "        water_trap += l_max - h[left]\n",
        "      left += 1\n",
        "    else:\n",
        "      if h[right] >= r_max:\n",
        "        r_max = h[right]\n",
        "      else:\n",
        "        water_trap += r_max - h[right]\n",
        "      right -= 1\n",
        "  return water_trap\n",
        "\n",
        "\n",
        "print(trap([0, 1, 0, 2, 1, 0, 1, 3, 2, 1, 2, 1]))\n",
        "print(trap([4, 2, 0, 3, 2, 5]))\n",
        "print(trap([1, 1, 1]))\n",
        "print(trap([5]))\n",
        "print(trap([2, 0, 2]))"
      ]
    }
  ]
}
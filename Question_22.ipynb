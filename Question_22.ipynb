{
  "nbformat": 4,
  "nbformat_minor": 0,
  "metadata": {
    "colab": {
      "provenance": [],
      "authorship_tag": "ABX9TyOZQ9PE2gX0jsYcGfBpEGiZ",
      "include_colab_link": true
    },
    "kernelspec": {
      "name": "python3",
      "display_name": "Python 3"
    },
    "language_info": {
      "name": "python"
    }
  },
  "cells": [
    {
      "cell_type": "markdown",
      "metadata": {
        "id": "view-in-github",
        "colab_type": "text"
      },
      "source": [
        "<a href=\"https://colab.research.google.com/github/Mohor35/Daily_programming_challenge_2024/blob/main/Question_22.ipynb\" target=\"_parent\"><img src=\"https://colab.research.google.com/assets/colab-badge.svg\" alt=\"Open In Colab\"/></a>"
      ]
    },
    {
      "cell_type": "code",
      "execution_count": 3,
      "metadata": {
        "colab": {
          "base_uri": "https://localhost:8080/"
        },
        "id": "tKvKfgtxR3AL",
        "outputId": "189b582b-b9bb-45a3-8f48-907454e47ec5"
      },
      "outputs": [
        {
          "output_type": "stream",
          "name": "stdout",
          "text": [
            "5\n",
            "-1\n"
          ]
        }
      ],
      "source": [
        "def first_element_to_repeat_k_times(arr, k):\n",
        "    freq = {}\n",
        "    for num in arr:\n",
        "        if num in freq:\n",
        "            freq[num] += 1\n",
        "        else:\n",
        "            freq[num] = 1\n",
        "    for num in arr:\n",
        "        if freq[num] == k:\n",
        "            return num\n",
        "    return -1\n",
        "\n",
        "print(first_element_to_repeat_k_times([2, 3, 4, 2, 2, 5, 5], 2))\n",
        "print(first_element_to_repeat_k_times([1, 1, 1, 1], 1))"
      ]
    }
  ]
}
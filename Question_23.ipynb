{
  "nbformat": 4,
  "nbformat_minor": 0,
  "metadata": {
    "colab": {
      "provenance": [],
      "authorship_tag": "ABX9TyOsWU8+MqcJYS58R7kgiqYj",
      "include_colab_link": true
    },
    "kernelspec": {
      "name": "python3",
      "display_name": "Python 3"
    },
    "language_info": {
      "name": "python"
    }
  },
  "cells": [
    {
      "cell_type": "markdown",
      "metadata": {
        "id": "view-in-github",
        "colab_type": "text"
      },
      "source": [
        "<a href=\"https://colab.research.google.com/github/Mohor35/Daily_programming_challenge_2024/blob/main/Question_23.ipynb\" target=\"_parent\"><img src=\"https://colab.research.google.com/assets/colab-badge.svg\" alt=\"Open In Colab\"/></a>"
      ]
    },
    {
      "cell_type": "code",
      "execution_count": 6,
      "metadata": {
        "colab": {
          "base_uri": "https://localhost:8080/"
        },
        "id": "m-PNqG7zRIRA",
        "outputId": "c2209eb2-9ef6-4610-dcf3-cb8a5101f083"
      },
      "outputs": [
        {
          "output_type": "stream",
          "name": "stdout",
          "text": [
            "[3, 3, 5, 5, 6, 7]\n",
            "[5, 5, 4, 6]\n",
            "[2, 3, 4]\n",
            "[7, 7, 7, 7]\n"
          ]
        }
      ],
      "source": [
        "def  sliding_window_max(arr, k):\n",
        "  if not arr:\n",
        "    return []\n",
        "\n",
        "  n = len(arr)\n",
        "  result = []\n",
        "  dq = []\n",
        "\n",
        "  for i in range(n):\n",
        "    if dq and dq[0] < i - k + 1:\n",
        "      dq.pop(0)\n",
        "\n",
        "    while dq and arr[dq[-1]] < arr[i]:\n",
        "      dq.pop()\n",
        "\n",
        "    dq.append(i)\n",
        "\n",
        "    if i >= k - 1:\n",
        "      result.append(arr[dq[0]])\n",
        "\n",
        "  return result\n",
        "\n",
        "print(sliding_window_max([1, 3, -1, -3, 5, 3, 6, 7], 3))\n",
        "print(sliding_window_max([1, 5, 3, 2, 4, 6], 3))\n",
        "print(sliding_window_max([1, 2, 3, 4], 2))\n",
        "print(sliding_window_max([7, 7, 7, 7], 1))"
      ]
    }
  ]
}
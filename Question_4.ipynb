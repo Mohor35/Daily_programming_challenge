{
  "nbformat": 4,
  "nbformat_minor": 0,
  "metadata": {
    "colab": {
      "provenance": [],
      "authorship_tag": "ABX9TyMLx3dKQZWVhZf6XgP/PiDr",
      "include_colab_link": true
    },
    "kernelspec": {
      "name": "python3",
      "display_name": "Python 3"
    },
    "language_info": {
      "name": "python"
    }
  },
  "cells": [
    {
      "cell_type": "markdown",
      "metadata": {
        "id": "view-in-github",
        "colab_type": "text"
      },
      "source": [
        "<a href=\"https://colab.research.google.com/github/Mohor35/Daily_programming_challenge_2024/blob/main/Question_4.ipynb\" target=\"_parent\"><img src=\"https://colab.research.google.com/assets/colab-badge.svg\" alt=\"Open In Colab\"/></a>"
      ]
    },
    {
      "cell_type": "code",
      "execution_count": 3,
      "metadata": {
        "colab": {
          "base_uri": "https://localhost:8080/"
        },
        "id": "elfK_WY66jvU",
        "outputId": "84951ecd-240f-44c9-877b-ab8b29aed771"
      },
      "outputs": [
        {
          "output_type": "stream",
          "name": "stdout",
          "text": [
            "[1, 2, 3, 4]\n",
            "[5, 6, 7, 8]\n"
          ]
        }
      ],
      "source": [
        "def merging(arr1, arr2):\n",
        "  a = len(arr1)\n",
        "  b = len(arr2)\n",
        "\n",
        "  i = a - 1\n",
        "  j = b - 1\n",
        "  k = a + b - 1\n",
        "\n",
        "  arr1.extend([0] * b)\n",
        "\n",
        "  while i >= 0 and j >= 0:\n",
        "    if arr1[i] > arr2[j]:\n",
        "      arr1[k] = arr1[i]\n",
        "      i = i - 1\n",
        "    else:\n",
        "      arr1[k] = arr2[j]\n",
        "      j = j - 1\n",
        "    k = k - 1\n",
        "\n",
        "  while j >= 0:\n",
        "    arr1[k] = arr2[j]\n",
        "    j = j - 1\n",
        "    k = k - 1\n",
        "\n",
        "  arr2[:] = arr1[a:]\n",
        "  arr1[:] = arr1[:a]\n",
        "\n",
        "arr1 = [1,3,5,7]\n",
        "arr2 = [2,4,6,8]\n",
        "merging(arr1, arr2)\n",
        "print(arr1)\n",
        "print(arr2)"
      ]
    }
  ]
}
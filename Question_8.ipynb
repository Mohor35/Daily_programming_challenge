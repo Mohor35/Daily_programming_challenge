{
  "nbformat": 4,
  "nbformat_minor": 0,
  "metadata": {
    "colab": {
      "provenance": [],
      "authorship_tag": "ABX9TyOCDC6TTzTX/M2k9MvGglin",
      "include_colab_link": true
    },
    "kernelspec": {
      "name": "python3",
      "display_name": "Python 3"
    },
    "language_info": {
      "name": "python"
    }
  },
  "cells": [
    {
      "cell_type": "markdown",
      "metadata": {
        "id": "view-in-github",
        "colab_type": "text"
      },
      "source": [
        "<a href=\"https://colab.research.google.com/github/Mohor35/Daily_programming_challenge_2024/blob/main/Question_8.ipynb\" target=\"_parent\"><img src=\"https://colab.research.google.com/assets/colab-badge.svg\" alt=\"Open In Colab\"/></a>"
      ]
    },
    {
      "cell_type": "code",
      "execution_count": 5,
      "metadata": {
        "colab": {
          "base_uri": "https://localhost:8080/"
        },
        "id": "G_3XDICxzXY4",
        "outputId": "d4af5556-d68a-441a-a667-adfa1fb47e7c"
      },
      "outputs": [
        {
          "output_type": "stream",
          "name": "stdout",
          "text": [
            "blue is sky the\n",
            "world hello\n",
            "example good a\n",
            "\n",
            "word\n"
          ]
        }
      ],
      "source": [
        "def reverse_words(s: str) -> str:\n",
        "    words = s.split()\n",
        "    reversed_words = words[::-1]\n",
        "\n",
        "    result = ' '.join(reversed_words)\n",
        "\n",
        "    return result\n",
        "\n",
        "print(reverse_words(\"the sky is blue\"))\n",
        "print(reverse_words(\" hello world \"))\n",
        "print(reverse_words(\"a good example\"))\n",
        "print(reverse_words(\"  \"))\n",
        "print(reverse_words(\"word\"))\n"
      ]
    }
  ]
}
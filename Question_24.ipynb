{
  "nbformat": 4,
  "nbformat_minor": 0,
  "metadata": {
    "colab": {
      "provenance": [],
      "authorship_tag": "ABX9TyPJifWbADlT7MSc5lBQw/Y+",
      "include_colab_link": true
    },
    "kernelspec": {
      "name": "python3",
      "display_name": "Python 3"
    },
    "language_info": {
      "name": "python"
    }
  },
  "cells": [
    {
      "cell_type": "markdown",
      "metadata": {
        "id": "view-in-github",
        "colab_type": "text"
      },
      "source": [
        "<a href=\"https://colab.research.google.com/github/Mohor35/Daily_programming_challenge_2024/blob/main/Question_24.ipynb\" target=\"_parent\"><img src=\"https://colab.research.google.com/assets/colab-badge.svg\" alt=\"Open In Colab\"/></a>"
      ]
    },
    {
      "cell_type": "code",
      "execution_count": 2,
      "metadata": {
        "colab": {
          "base_uri": "https://localhost:8080/"
        },
        "id": "OXL5pxHPKGtI",
        "outputId": "65862c2a-b046-474c-fbe3-34c54c5256cb"
      },
      "outputs": [
        {
          "output_type": "stream",
          "name": "stdout",
          "text": [
            "5\n"
          ]
        }
      ],
      "source": [
        "class TreeNode:\n",
        "  def __init__(self , val = 0 , left = None, right = None):\n",
        "    self.val = val\n",
        "    self.left = left\n",
        "    self.right = right\n",
        "\n",
        "class Solution:\n",
        "  def lowestCommonAncestor(self, root: 'TreeNode', p: 'TreeNode', q: 'TreeNode') -> 'TreeNode':\n",
        "    if not root or root == p or root == q:\n",
        "      return root\n",
        "\n",
        "    left = self.lowestCommonAncestor(root.left, p,q)\n",
        "    right = self.lowestCommonAncestor(root.right, p,q)\n",
        "\n",
        "    if left and right:\n",
        "      return root\n",
        "\n",
        "    return left if left else right\n",
        "\n",
        "def build_tree(nodes, index=0):\n",
        "  if index >= len(nodes) or nodes[index] is None:\n",
        "    return None\n",
        "\n",
        "  root = TreeNode(nodes[index])\n",
        "  root.left = build_tree(nodes, 2 * index + 1)\n",
        "  root.right = build_tree(nodes, 2 * index + 1)\n",
        "  return root\n",
        "\n",
        "if __name__ == \"__main__\":\n",
        "  nodes = [3,5,1,6,2,0,8,None,None,7,4]\n",
        "  root = build_tree(nodes)\n",
        "\n",
        "  solution = Solution()\n",
        "  p = root.left\n",
        "  q = root.left.right.right\n",
        "  result = solution.lowestCommonAncestor(root, p, q)\n",
        "  print(result.val)\n",
        "\n",
        "\n"
      ]
    }
  ]
}
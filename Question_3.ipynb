{
  "nbformat": 4,
  "nbformat_minor": 0,
  "metadata": {
    "colab": {
      "provenance": [],
      "authorship_tag": "ABX9TyPk677cf5gtSy4rKK3fD9ow",
      "include_colab_link": true
    },
    "kernelspec": {
      "name": "python3",
      "display_name": "Python 3"
    },
    "language_info": {
      "name": "python"
    }
  },
  "cells": [
    {
      "cell_type": "markdown",
      "metadata": {
        "id": "view-in-github",
        "colab_type": "text"
      },
      "source": [
        "<a href=\"https://colab.research.google.com/github/Mohor35/Daily_programming_challenge_2024/blob/main/Question_3.ipynb\" target=\"_parent\"><img src=\"https://colab.research.google.com/assets/colab-badge.svg\" alt=\"Open In Colab\"/></a>"
      ]
    },
    {
      "cell_type": "code",
      "execution_count": 5,
      "metadata": {
        "colab": {
          "base_uri": "https://localhost:8080/"
        },
        "id": "s6LaowcXhKSy",
        "outputId": "af36c987-cb65-41d8-daa4-338d1ff5b1f9"
      },
      "outputs": [
        {
          "output_type": "stream",
          "name": "stdout",
          "text": [
            "2\n",
            "4\n",
            "None\n"
          ]
        }
      ],
      "source": [
        "def duplicate(arr):\n",
        "  pointer1 = arr[0]\n",
        "  pointer2 = arr[0]\n",
        "\n",
        "  while True:\n",
        "    pointer1 = arr[pointer1]\n",
        "    pointer2 = arr[arr[pointer2]]\n",
        "    if pointer1 == pointer2:\n",
        "      break\n",
        "\n",
        "      pointer1 = arr[0]\n",
        "      while pointer1 != pointer2:\n",
        "        pointer1 = arr[pointer1]\n",
        "        pointer2 = arr[pointer2]\n",
        "\n",
        "    return pointer1\n",
        "\n",
        "# Test Cases\n",
        "print(duplicate([1, 2, 3, 4, 2]))\n",
        "print(duplicate([3,1,3,4,2]))\n",
        "print(duplicate([2,1,3,3,5]))\n",
        "\n",
        ""
      ]
    }
  ]
}
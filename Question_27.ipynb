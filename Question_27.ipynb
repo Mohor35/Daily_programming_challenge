{
  "nbformat": 4,
  "nbformat_minor": 0,
  "metadata": {
    "colab": {
      "provenance": [],
      "authorship_tag": "ABX9TyNmEGVzN57SrLXraU49Mn1W",
      "include_colab_link": true
    },
    "kernelspec": {
      "name": "python3",
      "display_name": "Python 3"
    },
    "language_info": {
      "name": "python"
    }
  },
  "cells": [
    {
      "cell_type": "markdown",
      "metadata": {
        "id": "view-in-github",
        "colab_type": "text"
      },
      "source": [
        "<a href=\"https://colab.research.google.com/github/Mohor35/Daily_programming_challenge_2024/blob/main/Question_27.ipynb\" target=\"_parent\"><img src=\"https://colab.research.google.com/assets/colab-badge.svg\" alt=\"Open In Colab\"/></a>"
      ]
    },
    {
      "cell_type": "code",
      "execution_count": 1,
      "metadata": {
        "colab": {
          "base_uri": "https://localhost:8080/"
        },
        "id": "0oPjQaX6_nhc",
        "outputId": "90d09e5d-60b1-49d6-86a6-e6203cfdbacc"
      },
      "outputs": [
        {
          "output_type": "stream",
          "name": "stdout",
          "text": [
            "3\n",
            "2\n",
            "-1\n"
          ]
        }
      ],
      "source": [
        "class Graph:\n",
        "    def __init__(self, V):\n",
        "\n",
        "        self.V = V\n",
        "        self.adj_list = [[] for _ in range(V)]\n",
        "\n",
        "    def add_edge(self, u, v):\n",
        "\n",
        "        self.adj_list[u].append(v)\n",
        "        self.adj_list[v].append(u)\n",
        "\n",
        "    def shortest_path(self, start, end):\n",
        "\n",
        "        if start == end:\n",
        "            return 0\n",
        "\n",
        "\n",
        "        queue = [(start, 0)]\n",
        "        visited = [False] * self.V\n",
        "        visited[start] = True\n",
        "\n",
        "\n",
        "        while queue:\n",
        "            current_node, distance = queue.pop(0)\n",
        "\n",
        "\n",
        "            for neighbor in self.adj_list[current_node]:\n",
        "                if not visited[neighbor]:\n",
        "                    if neighbor == end:\n",
        "                        return distance + 1\n",
        "                    queue.append((neighbor, distance + 1))\n",
        "                    visited[neighbor] = True\n",
        "\n",
        "\n",
        "        return -1\n",
        "\n",
        "\n",
        "def find_shortest_path(V, edges, start, end):\n",
        "    graph = Graph(V)\n",
        "\n",
        "    for u, v in edges:\n",
        "        graph.add_edge(u, v)\n",
        "\n",
        "\n",
        "    return graph.shortest_path(start, end)\n",
        "\n",
        "\n",
        "\n",
        "V1 = 5\n",
        "edges1 = [[0, 1], [0, 2], [1, 3], [2, 3], [3, 4]]\n",
        "start1, end1 = 0, 4\n",
        "print(find_shortest_path(V1, edges1, start1, end1))\n",
        "\n",
        "V2 = 3\n",
        "edges2 = [[0, 1], [1, 2]]\n",
        "start2, end2 = 0, 2\n",
        "print(find_shortest_path(V2, edges2, start2, end2))\n",
        "\n",
        "V3 = 4\n",
        "edges3 = [[0, 1], [1, 2]]\n",
        "start3, end3 = 2, 3\n",
        "print(find_shortest_path(V3, edges3, start3, end3))\n"
      ]
    }
  ]
}
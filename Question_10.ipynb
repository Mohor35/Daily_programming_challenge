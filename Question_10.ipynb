{
  "nbformat": 4,
  "nbformat_minor": 0,
  "metadata": {
    "colab": {
      "provenance": [],
      "authorship_tag": "ABX9TyP5g62eKLR2WWMdCVobGI3H",
      "include_colab_link": true
    },
    "kernelspec": {
      "name": "python3",
      "display_name": "Python 3"
    },
    "language_info": {
      "name": "python"
    }
  },
  "cells": [
    {
      "cell_type": "markdown",
      "metadata": {
        "id": "view-in-github",
        "colab_type": "text"
      },
      "source": [
        "<a href=\"https://colab.research.google.com/github/Mohor35/Daily_programming_challenge_2024/blob/main/Question_10.ipynb\" target=\"_parent\"><img src=\"https://colab.research.google.com/assets/colab-badge.svg\" alt=\"Open In Colab\"/></a>"
      ]
    },
    {
      "cell_type": "code",
      "source": [
        "def anagrams(strs):\n",
        "  anagrams_map = {}\n",
        "  for str in strs:\n",
        "    sorted_str = ''.join(sorted(str))\n",
        "    if sorted_str in anagrams_map:\n",
        "      anagrams_map[sorted_str].append(str)\n",
        "    else:\n",
        "      anagrams_map[sorted_str] = [str]\n",
        "  return list(anagrams_map.values())\n",
        "\n",
        "strs1 = [\"eat\", \"tea\", \"tan\", \"ate\", \"nat\", \"bat\"]\n",
        "print(anagrams(strs1))\n",
        "\n",
        "strs2 = [\"\"]\n",
        "print(anagrams(strs2))\n",
        "\n",
        "strs3 = [\"a\"]\n",
        "print(anagrams(strs3))\n",
        "\n",
        "strs4 = [\"abc\", \"bca\", \"cab\", \"xyz\", \"zyx\", \"yxz\"]\n",
        "print(anagrams(strs4))\n",
        "\n",
        "strs5 = [\"abc\", \"def\", \"ghi\"]\n",
        "print(anagrams(strs5))\n",
        "\n",
        "\n",
        "\n",
        ""
      ],
      "metadata": {
        "colab": {
          "base_uri": "https://localhost:8080/"
        },
        "id": "YQ3ZqV8U6Oxw",
        "outputId": "25391e36-65ee-4777-f7b9-b8483fb416b7"
      },
      "execution_count": 1,
      "outputs": [
        {
          "output_type": "stream",
          "name": "stdout",
          "text": [
            "[['eat', 'tea', 'ate'], ['tan', 'nat'], ['bat']]\n",
            "[['']]\n",
            "[['a']]\n",
            "[['abc', 'bca', 'cab'], ['xyz', 'zyx', 'yxz']]\n",
            "[['abc'], ['def'], ['ghi']]\n"
          ]
        }
      ]
    }
  ]
}
{
  "nbformat": 4,
  "nbformat_minor": 0,
  "metadata": {
    "colab": {
      "provenance": [],
      "authorship_tag": "ABX9TyNffiiqXwwwetRxKnnQl5iq",
      "include_colab_link": true
    },
    "kernelspec": {
      "name": "python3",
      "display_name": "Python 3"
    },
    "language_info": {
      "name": "python"
    }
  },
  "cells": [
    {
      "cell_type": "markdown",
      "metadata": {
        "id": "view-in-github",
        "colab_type": "text"
      },
      "source": [
        "<a href=\"https://colab.research.google.com/github/Mohor35/Daily_programming_challenge_2024/blob/main/Question_19.ipynb\" target=\"_parent\"><img src=\"https://colab.research.google.com/assets/colab-badge.svg\" alt=\"Open In Colab\"/></a>"
      ]
    },
    {
      "cell_type": "code",
      "source": [
        "def evaluate_postfix(expression):\n",
        "  stack = []\n",
        "\n",
        "  tokens = expression.split()\n",
        "\n",
        "  for token in tokens:\n",
        "    if token.lstrip('-').isdigit():\n",
        "      stack.append(int(token))\n",
        "    else:\n",
        "      if token in ['+', '-', '*', '/']:\n",
        "        if len(stack) < 2:\n",
        "          raise ValueError(\"Invalid expression\")\n",
        "\n",
        "        b = stack.pop()\n",
        "        a = stack.pop()\n",
        "\n",
        "        if token == '+':\n",
        "          stack.append(a + b)\n",
        "        elif token == '-':\n",
        "          stack.append(a - b)\n",
        "        elif token == '*':\n",
        "          stack.append(a * b)\n",
        "        elif token == '/':\n",
        "          stack.append(int(a / b))\n",
        "      else:\n",
        "        print(f\"Unsupported operator encountered: {token}. Skipping it.\")\n",
        "        return None\n",
        "\n",
        "  if len(stack) != 1:\n",
        "    raise ValueError(\"The input expression is invalid\")\n",
        "\n",
        "  return stack[0]\n",
        "\n",
        "print(evaluate_postfix(\"2 1 + 3 *\"))\n",
        "print(evaluate_postfix(\"15 7 1 1 + - / 3 * 2 1 1 + + -\"))\n",
        "print(evaluate_postfix(\"3 4 2 * 1 5 - 2 3 ^ ^ / +\"))\n",
        "print(evaluate_postfix(\"5\"))\n",
        "print(evaluate_postfix(\"-5 6 -\"))\n",
        "print(evaluate_postfix(\"5 6 +\"))"
      ],
      "metadata": {
        "colab": {
          "base_uri": "https://localhost:8080/"
        },
        "id": "Qn8HRKlRKGLD",
        "outputId": "6191403c-df44-41f8-9346-1b608c4461da"
      },
      "execution_count": 10,
      "outputs": [
        {
          "output_type": "stream",
          "name": "stdout",
          "text": [
            "9\n",
            "5\n",
            "Unsupported operator encountered: ^. Skipping it.\n",
            "None\n",
            "5\n",
            "-11\n",
            "11\n"
          ]
        }
      ]
    }
  ]
}
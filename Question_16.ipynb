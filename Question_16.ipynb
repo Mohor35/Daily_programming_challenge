{
  "nbformat": 4,
  "nbformat_minor": 0,
  "metadata": {
    "colab": {
      "provenance": [],
      "authorship_tag": "ABX9TyOi1T93na4nl+kfbtKHLPcw",
      "include_colab_link": true
    },
    "kernelspec": {
      "name": "python3",
      "display_name": "Python 3"
    },
    "language_info": {
      "name": "python"
    }
  },
  "cells": [
    {
      "cell_type": "markdown",
      "metadata": {
        "id": "view-in-github",
        "colab_type": "text"
      },
      "source": [
        "<a href=\"https://colab.research.google.com/github/Mohor35/Daily_programming_challenge_2024/blob/main/Question_16.ipynb\" target=\"_parent\"><img src=\"https://colab.research.google.com/assets/colab-badge.svg\" alt=\"Open In Colab\"/></a>"
      ]
    },
    {
      "cell_type": "code",
      "execution_count": 4,
      "metadata": {
        "colab": {
          "base_uri": "https://localhost:8080/"
        },
        "id": "Il4UtZFdZdEL",
        "outputId": "e9d496ea-67e6-4937-b035-6a65da5ca76e"
      },
      "outputs": [
        {
          "output_type": "stream",
          "name": "stdout",
          "text": [
            "Enter the first number: 4\n",
            "Enter the second number: 6\n",
            "The LCM of 4 and 6 is 12\n"
          ]
        }
      ],
      "source": [
        "def gcd(n,m):\n",
        "  while m != 0:\n",
        "    n, m = m, n % m\n",
        "  return n\n",
        "\n",
        "def lcm(n,m):\n",
        "  return n * m // gcd(n,m)\n",
        "\n",
        "n = int(input(\"Enter the first number: \"))\n",
        "m = int(input(\"Enter the second number: \"))\n",
        "\n",
        "print(\"The LCM of\", n, \"and\", m, \"is\", lcm(n,m))"
      ]
    }
  ]
}
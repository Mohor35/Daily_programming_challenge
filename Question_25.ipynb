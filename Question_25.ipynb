{
  "nbformat": 4,
  "nbformat_minor": 0,
  "metadata": {
    "colab": {
      "provenance": [],
      "authorship_tag": "ABX9TyMDlbwLpWNwxl30Fqoum9mr",
      "include_colab_link": true
    },
    "kernelspec": {
      "name": "python3",
      "display_name": "Python 3"
    },
    "language_info": {
      "name": "python"
    }
  },
  "cells": [
    {
      "cell_type": "markdown",
      "metadata": {
        "id": "view-in-github",
        "colab_type": "text"
      },
      "source": [
        "<a href=\"https://colab.research.google.com/github/Mohor35/Daily_programming_challenge_2024/blob/main/Question_25.ipynb\" target=\"_parent\"><img src=\"https://colab.research.google.com/assets/colab-badge.svg\" alt=\"Open In Colab\"/></a>"
      ]
    },
    {
      "cell_type": "code",
      "execution_count": 2,
      "metadata": {
        "colab": {
          "base_uri": "https://localhost:8080/"
        },
        "id": "oCG2V8dAlTBC",
        "outputId": "d545d4aa-9577-48b7-8cc5-57a4af30ed00"
      },
      "outputs": [
        {
          "output_type": "stream",
          "name": "stdout",
          "text": [
            "True\n"
          ]
        }
      ],
      "source": [
        "class TreeNode:\n",
        "  def __init__(self , val=0, left=None, right=None):\n",
        "    self.val = val\n",
        "    self.left = left\n",
        "    self.right = right\n",
        "\n",
        "def isValidBST(root: TreeNode) -> bool:\n",
        "  def helper(node, lower = float('-inf'), upper = float('inf')):\n",
        "    if not node:\n",
        "      return True\n",
        "    val = node.val\n",
        "    if val <= lower or val >= upper:\n",
        "      return False\n",
        "\n",
        "    if not helper(node.right, val, upper):\n",
        "      return False\n",
        "    if not helper(node.left, lower, val):\n",
        "      return False\n",
        "\n",
        "    return True\n",
        "\n",
        "  return helper(root)\n",
        "\n",
        "\n",
        "root1 = TreeNode(2)\n",
        "root1.left = TreeNode(1)\n",
        "root1.right = TreeNode(3)\n",
        "print(isValidBST(root1))\n"
      ]
    }
  ]
}
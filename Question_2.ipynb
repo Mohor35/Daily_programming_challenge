{
  "nbformat": 4,
  "nbformat_minor": 0,
  "metadata": {
    "colab": {
      "provenance": [],
      "authorship_tag": "ABX9TyN9U/gnecPUoOJm93wdBIey",
      "include_colab_link": true
    },
    "kernelspec": {
      "name": "python3",
      "display_name": "Python 3"
    },
    "language_info": {
      "name": "python"
    }
  },
  "cells": [
    {
      "cell_type": "markdown",
      "metadata": {
        "id": "view-in-github",
        "colab_type": "text"
      },
      "source": [
        "<a href=\"https://colab.research.google.com/github/Mohor35/Daily_programming_challenge_2024/blob/main/Question_2.ipynb\" target=\"_parent\"><img src=\"https://colab.research.google.com/assets/colab-badge.svg\" alt=\"Open In Colab\"/></a>"
      ]
    },
    {
      "cell_type": "code",
      "execution_count": 6,
      "metadata": {
        "colab": {
          "base_uri": "https://localhost:8080/"
        },
        "id": "MIMNTM5IHIjG",
        "outputId": "7373b0bf-332d-485c-bc4b-f16afe528ce0"
      },
      "outputs": [
        {
          "output_type": "stream",
          "name": "stdout",
          "text": [
            "5\n",
            "2\n"
          ]
        }
      ],
      "source": [
        "def missing_nos(arr):\n",
        "  n = len(arr) + 1\n",
        "  total_sum = n * (n + 1) // 2\n",
        "  arr_sum = sum(arr)\n",
        "  return total_sum - arr_sum\n",
        "\n",
        "print(missing_nos([1,2,3,4,6]))\n",
        "print(missing_nos([1,3,4,5,6]))"
      ]
    },
    {
      "cell_type": "code",
      "source": [],
      "metadata": {
        "id": "2yxSsTBHIa_O"
      },
      "execution_count": null,
      "outputs": []
    }
  ]
}
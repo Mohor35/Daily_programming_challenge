{
  "nbformat": 4,
  "nbformat_minor": 0,
  "metadata": {
    "colab": {
      "provenance": [],
      "authorship_tag": "ABX9TyPB/EqBh9mhpe8Iab0JhU53",
      "include_colab_link": true
    },
    "kernelspec": {
      "name": "python3",
      "display_name": "Python 3"
    },
    "language_info": {
      "name": "python"
    }
  },
  "cells": [
    {
      "cell_type": "markdown",
      "metadata": {
        "id": "view-in-github",
        "colab_type": "text"
      },
      "source": [
        "<a href=\"https://colab.research.google.com/github/Mohor35/Daily_programming_challenge_2024/blob/main/Question_15.ipynb\" target=\"_parent\"><img src=\"https://colab.research.google.com/assets/colab-badge.svg\" alt=\"Open In Colab\"/></a>"
      ]
    },
    {
      "cell_type": "code",
      "execution_count": 8,
      "metadata": {
        "colab": {
          "base_uri": "https://localhost:8080/"
        },
        "id": "q27TFMI3Wf8K",
        "outputId": "40cdf96b-cfd8-4c4e-9b77-ff21ab9d7047"
      },
      "outputs": [
        {
          "output_type": "stream",
          "name": "stdout",
          "text": [
            "3\n",
            "1\n",
            "3\n",
            "8\n",
            "1\n"
          ]
        }
      ],
      "source": [
        "def longest_unique_substring(s: str) -> int:\n",
        "  char_set = set()\n",
        "  start = 0\n",
        "  max_length = 0\n",
        "\n",
        "  for end in range(len(s)):\n",
        "    while s[end] in char_set:\n",
        "      char_set.remove(s[start])\n",
        "      start += 1\n",
        "\n",
        "    char_set.add(s[end])\n",
        "    max_length = max(max_length, end - start + 1)\n",
        "  return max_length\n",
        "\n",
        "\n",
        "print(longest_unique_substring(\"abcabcbb\"))\n",
        "print(longest_unique_substring(\"bbbbb\"))\n",
        "print(longest_unique_substring(\"pwwkew\"))\n",
        "print(longest_unique_substring(\"abcdefgh\"))\n",
        "print(longest_unique_substring(\"a\"))"
      ]
    }
  ]
}
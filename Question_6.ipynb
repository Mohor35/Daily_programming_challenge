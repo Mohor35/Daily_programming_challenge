{
  "nbformat": 4,
  "nbformat_minor": 0,
  "metadata": {
    "colab": {
      "provenance": [],
      "authorship_tag": "ABX9TyP7CMT42XIm3BV2Fs1Zavd0",
      "include_colab_link": true
    },
    "kernelspec": {
      "name": "python3",
      "display_name": "Python 3"
    },
    "language_info": {
      "name": "python"
    }
  },
  "cells": [
    {
      "cell_type": "markdown",
      "metadata": {
        "id": "view-in-github",
        "colab_type": "text"
      },
      "source": [
        "<a href=\"https://colab.research.google.com/github/Mohor35/Daily_programming_challenge_2024/blob/main/Question_6.ipynb\" target=\"_parent\"><img src=\"https://colab.research.google.com/assets/colab-badge.svg\" alt=\"Open In Colab\"/></a>"
      ]
    },
    {
      "cell_type": "code",
      "execution_count": 1,
      "metadata": {
        "colab": {
          "base_uri": "https://localhost:8080/"
        },
        "id": "Nkid7EVXe1Sj",
        "outputId": "770cda8a-ce62-499a-9fb7-7fe0fabc818d"
      },
      "outputs": [
        {
          "output_type": "stream",
          "name": "stdout",
          "text": [
            "[(0, 2), (2, 3)]\n",
            "[(0, 2), (2, 4)]\n",
            "[]\n",
            "[(0, 0), (0, 1), (1, 1), (0, 2), (1, 2), (2, 2)]\n"
          ]
        }
      ],
      "source": [
        "def finding_subarr(arr):\n",
        "  prefix_sum = {}\n",
        "  prefix_summ = 0\n",
        "  result = []\n",
        "\n",
        "\n",
        "  for i in range(len(arr)):\n",
        "    prefix_summ = prefix_summ + arr[i]\n",
        "\n",
        "    if prefix_summ == 0:\n",
        "        result.append((0, i))\n",
        "\n",
        "\n",
        "    if prefix_summ in prefix_sum:\n",
        "      for start_index in prefix_sum[prefix_summ]:\n",
        "        result.append((start_index + 1, i))\n",
        "\n",
        "    if prefix_summ in prefix_sum:\n",
        "      prefix_sum[prefix_summ].append(i)\n",
        "\n",
        "    else:\n",
        "      prefix_sum[prefix_summ] = [i]\n",
        "\n",
        "\n",
        "  return result\n",
        "\n",
        "\n",
        "print(finding_subarr([1,2,-3,3,-1,2]))\n",
        "print(finding_subarr([4,-1,-3,1,2,-1]))\n",
        "print(finding_subarr([1,2,3,4]))\n",
        "print(finding_subarr([0,0,0]))\n",
        "\n"
      ]
    }
  ]
}